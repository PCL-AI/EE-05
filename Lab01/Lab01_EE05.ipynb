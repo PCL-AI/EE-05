{
  "nbformat": 4,
  "nbformat_minor": 0,
  "metadata": {
    "colab": {
      "name": "Lab01-EE05.ipynb",
      "version": "0.3.2",
      "provenance": []
    },
    "kernelspec": {
      "display_name": "Python 3",
      "language": "python",
      "name": "python3"
    }
  },
  "cells": [
    {
      "metadata": {
        "run_control": {
          "frozen": false,
          "read_only": false
        },
        "slideshow": {
          "slide_type": "slide"
        },
        "id": "iT2BOWBb3b-Y",
        "colab_type": "text"
      },
      "cell_type": "markdown",
      "source": [
        "# [Procesos Estocasticos EE-05](https://github.com/PCL-AI/EE-05)  \n",
        "# Laboratorio 01\n",
        "\n",
        "# 1 Sets en Python\n",
        "* Python tiene un tipo de datos llamado `set`\n",
        "* Parecido a conjuntos matemáticos.\n",
        "* Un conjunto se inicializa utilizando una lista, o una tupla, que contiene elementos."
      ]
    },
    {
      "metadata": {
        "slideshow": {
          "slide_type": "subslide"
        },
        "id": "q6cILLMW3b-c",
        "colab_type": "code",
        "outputId": "265bfa2b-77c7-4ab8-8df0-392dbef38ae5",
        "colab": {
          "base_uri": "https://localhost:8080/",
          "height": 35
        }
      },
      "cell_type": "code",
      "source": [
        "# Un conjunto de numeros\n",
        "set([1,2,30])"
      ],
      "execution_count": 0,
      "outputs": [
        {
          "output_type": "execute_result",
          "data": {
            "text/plain": [
              "{1, 2, 30}"
            ]
          },
          "metadata": {
            "tags": []
          },
          "execution_count": 1
        }
      ]
    },
    {
      "metadata": {
        "slideshow": {
          "slide_type": "subslide"
        },
        "id": "1GeHb93x3b-q",
        "colab_type": "code",
        "outputId": "67edd8af-2456-4698-cdd6-23636d6a364e",
        "colab": {
          "base_uri": "https://localhost:8080/",
          "height": 35
        }
      },
      "cell_type": "code",
      "source": [
        "# El orden no se conserva\n",
        "# Al imprimir un conjunto, los elementos serán listados\n",
        "# Un conjunto de palabras\n",
        "set(['this','that','the other'])"
      ],
      "execution_count": 0,
      "outputs": [
        {
          "output_type": "execute_result",
          "data": {
            "text/plain": [
              "{'that', 'the other', 'this'}"
            ]
          },
          "metadata": {
            "tags": []
          },
          "execution_count": 3
        }
      ]
    },
    {
      "metadata": {
        "slideshow": {
          "slide_type": "subslide"
        },
        "id": "O--29gC43b-0",
        "colab_type": "code",
        "outputId": "3fcef536-3658-4b2e-eba7-7409612b66e2",
        "colab": {
          "base_uri": "https://localhost:8080/",
          "height": 35
        }
      },
      "cell_type": "code",
      "source": [
        "# Cada elemento puede aparecer en un conjunto una sola vez\n",
        "set([1,2,3,2])"
      ],
      "execution_count": 0,
      "outputs": [
        {
          "output_type": "execute_result",
          "data": {
            "text/plain": [
              "{1, 2, 3}"
            ]
          },
          "metadata": {
            "tags": []
          },
          "execution_count": 4
        }
      ]
    },
    {
      "metadata": {
        "id": "T5JJaUnj3b-9",
        "colab_type": "text"
      },
      "cell_type": "markdown",
      "source": [
        "more commands creating and editing sets"
      ]
    },
    {
      "metadata": {
        "id": "DRXMpM9c3b--",
        "colab_type": "code",
        "colab": {}
      },
      "cell_type": "code",
      "source": [
        "# Crear un conjunto vacío\n",
        "A = set()"
      ],
      "execution_count": 0,
      "outputs": []
    },
    {
      "metadata": {
        "id": "DR5wPuqY3b_D",
        "colab_type": "code",
        "outputId": "38770f33-15f1-4008-abe4-2f62ee07681d",
        "colab": {
          "base_uri": "https://localhost:8080/",
          "height": 35
        }
      },
      "cell_type": "code",
      "source": [
        "# Agregar elementos de un conjunto\n",
        "A = set()\n",
        "A.update({0, 10})\n",
        "print(A)"
      ],
      "execution_count": 0,
      "outputs": [
        {
          "output_type": "stream",
          "text": [
            "{0, 10}\n"
          ],
          "name": "stdout"
        }
      ]
    },
    {
      "metadata": {
        "id": "rU4soGqY3b_L",
        "colab_type": "code",
        "outputId": "50093f9d-7f8c-4f33-d794-5463c36bf2e4",
        "colab": {
          "base_uri": "https://localhost:8080/",
          "height": 35
        }
      },
      "cell_type": "code",
      "source": [
        "# Eliminar un elemento de un conjunto\n",
        "A = {1, 2, 3}\n",
        "A.remove(2)       # Funciona solo si el elemento a eliminar está presente en el conjunto\n",
        "A.discard(4)      # Funciona incluso si el elemento a eliminar no está presente en el conjunto\n",
        "A.discard(3)      \n",
        "print(A)"
      ],
      "execution_count": 0,
      "outputs": [
        {
          "output_type": "stream",
          "text": [
            "{1}\n"
          ],
          "name": "stdout"
        }
      ]
    },
    {
      "metadata": {
        "id": "cjFr-qxV3b_V",
        "colab_type": "code",
        "outputId": "2cb1a9f1-9e53-45c8-c370-d31e37517fe7",
        "colab": {
          "base_uri": "https://localhost:8080/",
          "height": 35
        }
      },
      "cell_type": "code",
      "source": [
        "# Eliminar un elemento aleatoriamente de un conjunto\n",
        "A = {1, 2, 3}\n",
        "A.pop()\n",
        "print(A)"
      ],
      "execution_count": 0,
      "outputs": [
        {
          "output_type": "stream",
          "text": [
            "{2, 3}\n"
          ],
          "name": "stdout"
        }
      ]
    },
    {
      "metadata": {
        "id": "Jwpj_uhe3b_j",
        "colab_type": "code",
        "outputId": "22a4278d-31e1-43a5-dcbf-8e8bc6c8e33d",
        "colab": {
          "base_uri": "https://localhost:8080/",
          "height": 35
        }
      },
      "cell_type": "code",
      "source": [
        "A = {-1,2,1, 3}\n",
        "A.pop()\n",
        "print(A)"
      ],
      "execution_count": 0,
      "outputs": [
        {
          "output_type": "stream",
          "text": [
            "{2, 3, -1}\n"
          ],
          "name": "stdout"
        }
      ]
    },
    {
      "metadata": {
        "id": "doatraPJ3b_s",
        "colab_type": "code",
        "outputId": "8233577d-f04f-484a-e6c2-526878c23050",
        "colab": {
          "base_uri": "https://localhost:8080/",
          "height": 35
        }
      },
      "cell_type": "code",
      "source": [
        "# Obtener una lista ordenada de un conjunto\n",
        "A = {1, 10, 4, -9, 7, 8, -6, 3, 2}\n",
        "print(sorted(A))"
      ],
      "execution_count": 0,
      "outputs": [
        {
          "output_type": "stream",
          "text": [
            "[-9, -6, 1, 2, 3, 4, 7, 8, 10]\n"
          ],
          "name": "stdout"
        }
      ]
    },
    {
      "metadata": {
        "id": "ispAwSkp4bqU",
        "colab_type": "text"
      },
      "cell_type": "markdown",
      "source": [
        "##1.1 Los elementos de los conjuntos deben ser inmutables.\n",
        "Mientras que en matemáticas cualquier cosa puede ser un elemento de un conjunto, en Python un elemento tiene que ser\n",
        "** inmutable ** y ** hashable ** es decir, un objeto con un valor fijo. Los objetos inmutables incluyen números, cadenas y tuplas."
      ]
    },
    {
      "metadata": {
        "id": "SgDg0Rab9Kzh",
        "colab_type": "code",
        "outputId": "be920b06-f84d-4ef5-9205-60791c1163f4",
        "colab": {
          "base_uri": "https://localhost:8080/",
          "height": 35
        }
      },
      "cell_type": "code",
      "source": [
        "#elementos pueden ser tuplas\n",
        "set([(1,2),(1,3),(3,1)])"
      ],
      "execution_count": 0,
      "outputs": [
        {
          "output_type": "execute_result",
          "data": {
            "text/plain": [
              "{(1, 2), (1, 3), (3, 1)}"
            ]
          },
          "metadata": {
            "tags": []
          },
          "execution_count": 17
        }
      ]
    },
    {
      "metadata": {
        "id": "I93Gu2Om9LGL",
        "colab_type": "code",
        "outputId": "bd75629c-99d6-4d7c-927e-a734c351687f",
        "colab": {
          "base_uri": "https://localhost:8080/",
          "height": 171
        }
      },
      "cell_type": "code",
      "source": [
        "# pero no pueden ser listas\n",
        "set([[1,2],[1,3],[3,1]])"
      ],
      "execution_count": 0,
      "outputs": [
        {
          "output_type": "error",
          "ename": "TypeError",
          "evalue": "ignored",
          "traceback": [
            "\u001b[0;31m---------------------------------------------------------------------------\u001b[0m",
            "\u001b[0;31mTypeError\u001b[0m                                 Traceback (most recent call last)",
            "\u001b[0;32m<ipython-input-16-44b590a61efa>\u001b[0m in \u001b[0;36m<module>\u001b[0;34m()\u001b[0m\n\u001b[0;32m----> 1\u001b[0;31m \u001b[0mset\u001b[0m\u001b[0;34m(\u001b[0m\u001b[0;34m[\u001b[0m\u001b[0;34m[\u001b[0m\u001b[0;36m1\u001b[0m\u001b[0;34m,\u001b[0m\u001b[0;36m2\u001b[0m\u001b[0;34m]\u001b[0m\u001b[0;34m,\u001b[0m\u001b[0;34m[\u001b[0m\u001b[0;36m1\u001b[0m\u001b[0;34m,\u001b[0m\u001b[0;36m3\u001b[0m\u001b[0;34m]\u001b[0m\u001b[0;34m,\u001b[0m\u001b[0;34m[\u001b[0m\u001b[0;36m3\u001b[0m\u001b[0;34m,\u001b[0m\u001b[0;36m1\u001b[0m\u001b[0;34m]\u001b[0m\u001b[0;34m]\u001b[0m\u001b[0;34m)\u001b[0m\u001b[0;34m\u001b[0m\u001b[0m\n\u001b[0m",
            "\u001b[0;31mTypeError\u001b[0m: unhashable type: 'list'"
          ]
        }
      ]
    },
    {
      "metadata": {
        "slideshow": {
          "slide_type": "slide"
        },
        "id": "eptgAVoI3cAE",
        "colab_type": "text"
      },
      "cell_type": "markdown",
      "source": [
        "#2 Operaciones en sets\n",
        "Python define muchas operaciones en conjuntos. La mayoría de las operaciones vienen en dos formas: como método y como una sobrecarga de operadores matematicas.\n",
        "\n",
        "Para una descripción completa de las operaciones en conjuntos para Python 3.6 ver [here](https://docs.python.org/3.6/tutorial/datastructures.html#sets)"
      ]
    },
    {
      "metadata": {
        "slideshow": {
          "slide_type": "subslide"
        },
        "id": "GYEwjFJW3cAH",
        "colab_type": "code",
        "outputId": "70e14718-86c0-43d6-ea67-bab87f65cc0b",
        "colab": {
          "base_uri": "https://localhost:8080/",
          "height": 35
        }
      },
      "cell_type": "code",
      "source": [
        "A=set(range(0,3)) # todos los enteros entre 0 y 2\n",
        "B=set(range(0,6,2)) # incluso enteros entre 0 y 2\n",
        "C=set(range(0,6))   # todos los enteros entre 0 y 5\n",
        "'A=',A,'B=',B,'C=',C"
      ],
      "execution_count": 0,
      "outputs": [
        {
          "output_type": "execute_result",
          "data": {
            "text/plain": [
              "('A=', {0, 1, 2}, 'B=', {0, 2, 4}, 'C=', {0, 1, 2, 3, 4, 5})"
            ]
          },
          "metadata": {
            "tags": []
          },
          "execution_count": 18
        }
      ]
    },
    {
      "metadata": {
        "slideshow": {
          "slide_type": "subslide"
        },
        "id": "uF1Kujo33cAO",
        "colab_type": "code",
        "outputId": "853a531c-1db8-48e2-c859-f5f6f025b3c6",
        "colab": {
          "base_uri": "https://localhost:8080/",
          "height": 35
        }
      },
      "cell_type": "code",
      "source": [
        "## Comprobando si un elemento está en un conjunto:\n",
        "1 in A, 1 in B, 3 not in B"
      ],
      "execution_count": 0,
      "outputs": [
        {
          "output_type": "execute_result",
          "data": {
            "text/plain": [
              "(True, False, True)"
            ]
          },
          "metadata": {
            "tags": []
          },
          "execution_count": 20
        }
      ]
    },
    {
      "metadata": {
        "slideshow": {
          "slide_type": "subslide"
        },
        "id": "wRgCBXZy3cAi",
        "colab_type": "code",
        "outputId": "6a86aa6b-b19d-4bfd-f997-750bb162fd24",
        "colab": {
          "base_uri": "https://localhost:8080/",
          "height": 35
        }
      },
      "cell_type": "code",
      "source": [
        "A.issubset(C), A<=C"
      ],
      "execution_count": 0,
      "outputs": [
        {
          "output_type": "execute_result",
          "data": {
            "text/plain": [
              "(True, True)"
            ]
          },
          "metadata": {
            "tags": []
          },
          "execution_count": 21
        }
      ]
    },
    {
      "metadata": {
        "slideshow": {
          "slide_type": "subslide"
        },
        "id": "uPOU8_F63cAs",
        "colab_type": "code",
        "outputId": "0df25ea5-9906-4893-ca65-13bf25c2b5ff",
        "colab": {
          "base_uri": "https://localhost:8080/",
          "height": 35
        }
      },
      "cell_type": "code",
      "source": [
        "C.issuperset(B),C>=B"
      ],
      "execution_count": 0,
      "outputs": [
        {
          "output_type": "execute_result",
          "data": {
            "text/plain": [
              "(True, True)"
            ]
          },
          "metadata": {
            "tags": []
          },
          "execution_count": 22
        }
      ]
    },
    {
      "metadata": {
        "slideshow": {
          "slide_type": "subslide"
        },
        "id": "V5aGR1RU3cA8",
        "colab_type": "code",
        "outputId": "22781ac0-6516-4438-a769-f3b36215c334",
        "colab": {
          "base_uri": "https://localhost:8080/",
          "height": 35
        }
      },
      "cell_type": "code",
      "source": [
        "A.union(B), A | B"
      ],
      "execution_count": 0,
      "outputs": [
        {
          "output_type": "execute_result",
          "data": {
            "text/plain": [
              "({0, 1, 2, 4}, {0, 1, 2, 4})"
            ]
          },
          "metadata": {
            "tags": []
          },
          "execution_count": 24
        }
      ]
    },
    {
      "metadata": {
        "slideshow": {
          "slide_type": "subslide"
        },
        "id": "U-SJL8rf3cBL",
        "colab_type": "code",
        "outputId": "500d56ae-6cb3-44b9-fc29-dc5a10c6a22a",
        "colab": {
          "base_uri": "https://localhost:8080/",
          "height": 35
        }
      },
      "cell_type": "code",
      "source": [
        "A.intersection(B) , A&B"
      ],
      "execution_count": 0,
      "outputs": [
        {
          "output_type": "execute_result",
          "data": {
            "text/plain": [
              "({0, 2}, {0, 2})"
            ]
          },
          "metadata": {
            "tags": []
          },
          "execution_count": 28
        }
      ]
    },
    {
      "metadata": {
        "slideshow": {
          "slide_type": "subslide"
        },
        "id": "7QYp9p9t3cBS",
        "colab_type": "code",
        "outputId": "b41dff12-e405-4893-804b-4ec7e0609807",
        "colab": {
          "base_uri": "https://localhost:8080/",
          "height": 35
        }
      },
      "cell_type": "code",
      "source": [
        "# La diferencia entre A y B contiene todos los elementos que están en A pero no en B\n",
        "A.difference(B), A-B"
      ],
      "execution_count": 0,
      "outputs": [
        {
          "output_type": "execute_result",
          "data": {
            "text/plain": [
              "({1}, {1})"
            ]
          },
          "metadata": {
            "tags": []
          },
          "execution_count": 29
        }
      ]
    },
    {
      "metadata": {
        "slideshow": {
          "slide_type": "subslide"
        },
        "id": "b7RLgbGW3cBZ",
        "colab_type": "code",
        "outputId": "728e31f4-c33a-4514-ab04-314fd43816c4",
        "colab": {
          "base_uri": "https://localhost:8080/",
          "height": 35
        }
      },
      "cell_type": "code",
      "source": [
        "# La diferencia simétrica contiene todos los elementos que están en uno de los dos conjuntos, pero no en ambos\n",
        "A.symmetric_difference(B), A^B"
      ],
      "execution_count": 0,
      "outputs": [
        {
          "output_type": "execute_result",
          "data": {
            "text/plain": [
              "({1, 4}, {1, 4})"
            ]
          },
          "metadata": {
            "tags": []
          },
          "execution_count": 30
        }
      ]
    },
    {
      "metadata": {
        "slideshow": {
          "slide_type": "slide"
        },
        "id": "l7EjJtZj3cBe",
        "colab_type": "text"
      },
      "cell_type": "markdown",
      "source": [
        "##2.1 Encontrando los numeros primos\n",
        "El siguiente programa encuentra los números primos entre $ 2 $ y $ k $."
      ]
    },
    {
      "metadata": {
        "slideshow": {
          "slide_type": "skip"
        },
        "id": "9FcNusPT3cBf",
        "colab_type": "text"
      },
      "cell_type": "markdown",
      "source": [
        "Comienza con un conjunto de todos los enteros entre `2` y `k`, que se llama `I`.\n",
        "\n",
        "Luego elimina todos los múltiplos de `2`, todos los múltiplos de`3`, todos los múltiplos de `4`, etc.\n",
        "Terminando con $ \\sqrt {k} $.\n",
        "\n",
        "Lo hace mediante el uso de la operación de substracción de conjunto `A- = B`"
      ]
    },
    {
      "metadata": {
        "slideshow": {
          "slide_type": "skip"
        },
        "id": "bl2oZXTW3cBh",
        "colab_type": "text"
      },
      "cell_type": "markdown",
      "source": [
        "Es suficiente con los múltiplos menores de $ \\sqrt {k} $ porque cualquier número no primo tiene al menos un factor que es menor que $ \\sqrt {k} $.\n",
        "\n",
        "* Prueba por contradicción.\n"
      ]
    },
    {
      "metadata": {
        "slideshow": {
          "slide_type": "subslide"
        },
        "id": "ZDF6h9kG3cBo",
        "colab_type": "code",
        "outputId": "33bd1a3b-d824-4551-8ce9-95b8e02dd06e",
        "colab": {
          "base_uri": "https://localhost:8080/",
          "height": 196
        }
      },
      "cell_type": "code",
      "source": [
        "from math import sqrt\n",
        "k=100\n",
        "I=set(range(2,k))\n",
        "print('Comenzar, quedan=%d'%len(I))\n",
        "\n",
        "for j in range(2,int(sqrt(k))+1):\n",
        "    I-=set(range(2*j,k,j))\n",
        "    print('iteracion=%d, quedan=%d'%(j,len(I)))"
      ],
      "execution_count": 0,
      "outputs": [
        {
          "output_type": "stream",
          "text": [
            "Comenzar, quedan=98\n",
            "iteracion=2, quedan=50\n",
            "iteracion=3, quedan=34\n",
            "iteracion=4, quedan=34\n",
            "iteracion=5, quedan=28\n",
            "iteracion=6, quedan=28\n",
            "iteracion=7, quedan=25\n",
            "iteracion=8, quedan=25\n",
            "iteracion=9, quedan=25\n",
            "iteracion=10, quedan=25\n"
          ],
          "name": "stdout"
        }
      ]
    },
    {
      "metadata": {
        "slideshow": {
          "slide_type": "subslide"
        },
        "id": "saiBUG4m3cBw",
        "colab_type": "code",
        "outputId": "c73751e0-f2f8-480f-b8b0-2ee6f1d306aa",
        "colab": {
          "base_uri": "https://localhost:8080/",
          "height": 35
        }
      },
      "cell_type": "code",
      "source": [
        "','.join([str(i) for i in I])"
      ],
      "execution_count": 0,
      "outputs": [
        {
          "output_type": "execute_result",
          "data": {
            "text/plain": [
              "'2,3,5,7,11,13,17,19,23,29,31,37,41,43,47,53,59,61,67,71,73,79,83,89,97'"
            ]
          },
          "metadata": {
            "tags": []
          },
          "execution_count": 43
        }
      ]
    },
    {
      "metadata": {
        "slideshow": {
          "slide_type": "slide"
        },
        "id": "LhucKyHJ3cCA",
        "colab_type": "text"
      },
      "cell_type": "markdown",
      "source": [
        "## 2.2 Calculo del producto cartesiano.\n"
      ]
    },
    {
      "metadata": {
        "slideshow": {
          "slide_type": "subslide"
        },
        "id": "4nAC5D5q3cCB",
        "colab_type": "code",
        "colab": {}
      },
      "cell_type": "code",
      "source": [
        "A=set(['a','b','c'])\n",
        "B=set([1,2])"
      ],
      "execution_count": 0,
      "outputs": []
    },
    {
      "metadata": {
        "slideshow": {
          "slide_type": "subslide"
        },
        "id": "k0xUHAEK3cCE",
        "colab_type": "code",
        "outputId": "7a5cbe0e-39ee-4f5b-ca0f-ad61ae35623e",
        "colab": {
          "base_uri": "https://localhost:8080/",
          "height": 35
        }
      },
      "cell_type": "code",
      "source": [
        "C=set()\n",
        "for x in A:\n",
        "    for y in B:\n",
        "        C.add((x,y))\n",
        "C"
      ],
      "execution_count": 0,
      "outputs": [
        {
          "output_type": "execute_result",
          "data": {
            "text/plain": [
              "{(0, 0), (0, 2), (0, 4), (1, 0), (1, 2), (1, 4), (2, 0), (2, 2), (2, 4)}"
            ]
          },
          "metadata": {
            "tags": []
          },
          "execution_count": 44
        }
      ]
    },
    {
      "metadata": {
        "id": "ceMlqI9a64S3",
        "colab_type": "text"
      },
      "cell_type": "markdown",
      "source": [
        "#3 contando\n",
        "##3.1 Uniones disjuntas"
      ]
    },
    {
      "metadata": {
        "id": "fGPFZCel64S6",
        "colab_type": "code",
        "outputId": "2a88518a-ecda-4bfd-eb01-62adbf3e5980",
        "colab": {
          "base_uri": "https://localhost:8080/",
          "height": 35
        }
      },
      "cell_type": "code",
      "source": [
        "# Tamaño de un conjunto\n",
        "NewSet = {1, 2}\n",
        "print(len(NewSet))"
      ],
      "execution_count": 0,
      "outputs": [
        {
          "output_type": "stream",
          "text": [
            "2\n"
          ],
          "name": "stdout"
        }
      ]
    },
    {
      "metadata": {
        "id": "lsHL5rBP64TB",
        "colab_type": "code",
        "outputId": "dee8374b-d78a-4c1b-8144-279eb96b3702",
        "colab": {
          "base_uri": "https://localhost:8080/",
          "height": 35
        }
      },
      "cell_type": "code",
      "source": [
        "# Elemento más pequeño en un conjunto\n",
        "NewSet = {2, 1, 3}\n",
        "print(min(NewSet))"
      ],
      "execution_count": 0,
      "outputs": [
        {
          "output_type": "stream",
          "text": [
            "1\n"
          ],
          "name": "stdout"
        }
      ]
    },
    {
      "metadata": {
        "id": "c-Fyo3mG64TF",
        "colab_type": "code",
        "outputId": "dca91e2e-7354-4bf8-e899-05d81eed7c15",
        "colab": {
          "base_uri": "https://localhost:8080/",
          "height": 35
        }
      },
      "cell_type": "code",
      "source": [
        "# Elemento más grande en un conjunto\n",
        "NewSet = {-9, -1, -7}\n",
        "print(max(NewSet))"
      ],
      "execution_count": 0,
      "outputs": [
        {
          "output_type": "stream",
          "text": [
            "-1\n"
          ],
          "name": "stdout"
        }
      ]
    },
    {
      "metadata": {
        "id": "g1btCfYV64TK",
        "colab_type": "code",
        "outputId": "fc7dd6fb-dcab-40da-92c2-651f1fcd9c45",
        "colab": {
          "base_uri": "https://localhost:8080/",
          "height": 35
        }
      },
      "cell_type": "code",
      "source": [
        "# Imprimir la suma de elementos de un conjunto.\n",
        "A = {1, 5, 2, -10, 19}\n",
        "print(sum(A))"
      ],
      "execution_count": 0,
      "outputs": [
        {
          "output_type": "stream",
          "text": [
            "17\n"
          ],
          "name": "stdout"
        }
      ]
    },
    {
      "metadata": {
        "id": "VFNB9UjH64TP",
        "colab_type": "code",
        "outputId": "bf2f1913-7dd0-4af1-9394-d701a022f0e1",
        "colab": {
          "base_uri": "https://localhost:8080/",
          "height": 35
        }
      },
      "cell_type": "code",
      "source": [
        "# Verifique lo anterior usando un lazo 'for'\n",
        "total=0\n",
        "for i in A:\n",
        "    total += i\n",
        "print(total)"
      ],
      "execution_count": 0,
      "outputs": [
        {
          "output_type": "stream",
          "text": [
            "17\n"
          ],
          "name": "stdout"
        }
      ]
    },
    {
      "metadata": {
        "scrolled": true,
        "id": "0n9ZzCMM64TT",
        "colab_type": "code",
        "outputId": "a8b243e5-c143-4ae1-e043-2a6f73ade3d6",
        "colab": {
          "base_uri": "https://localhost:8080/",
          "height": 35
        }
      },
      "cell_type": "code",
      "source": [
        "A = {1, 2, 3}\n",
        "B = {1, 3, 5}\n",
        "print(len(A),len(B))"
      ],
      "execution_count": 0,
      "outputs": [
        {
          "output_type": "stream",
          "text": [
            "3 3\n"
          ],
          "name": "stdout"
        }
      ]
    },
    {
      "metadata": {
        "id": "aEv7-bti64TY",
        "colab_type": "code",
        "outputId": "09fd7a71-d5c7-4716-b1b3-fa2fecc4fab5",
        "colab": {
          "base_uri": "https://localhost:8080/",
          "height": 53
        }
      },
      "cell_type": "code",
      "source": [
        "# Intersección\n",
        "C = A & B\n",
        "print(C, \"\\n\", len(C))"
      ],
      "execution_count": 0,
      "outputs": [
        {
          "output_type": "stream",
          "text": [
            "{1, 3} \n",
            " 2\n"
          ],
          "name": "stdout"
        }
      ]
    },
    {
      "metadata": {
        "id": "3tqe6CfO64Tc",
        "colab_type": "code",
        "outputId": "e483a51a-a88c-40d9-9dad-3d949a0cd86d",
        "colab": {
          "base_uri": "https://localhost:8080/",
          "height": 53
        }
      },
      "cell_type": "code",
      "source": [
        "# Diferencia\n",
        "E = A-B\n",
        "print(E, \"\\n\", len(E))"
      ],
      "execution_count": 0,
      "outputs": [
        {
          "output_type": "stream",
          "text": [
            "{2} \n",
            " 1\n"
          ],
          "name": "stdout"
        }
      ]
    },
    {
      "metadata": {
        "id": "_HdMdHSY64Th",
        "colab_type": "text"
      },
      "cell_type": "markdown",
      "source": [
        "## 3.2 Uniones generales\n",
        "\n",
        "Calcule el tamaño de la unión de dos maneras: directamente y utilizando la exclusión de inclusión"
      ]
    },
    {
      "metadata": {
        "id": "sB20EWXQ64Ti",
        "colab_type": "code",
        "outputId": "0c7b1662-d185-480c-ffa4-ec4abc4adea8",
        "colab": {
          "base_uri": "https://localhost:8080/",
          "height": 71
        }
      },
      "cell_type": "code",
      "source": [
        "# Union\n",
        "D = A | B\n",
        "print(D, \"\\n\", len(D) ,\"\\n\", len(A)+len(B)-len(C))"
      ],
      "execution_count": 0,
      "outputs": [
        {
          "output_type": "stream",
          "text": [
            "{1, 2, 3, 5} \n",
            " 4 \n",
            " 4\n"
          ],
          "name": "stdout"
        }
      ]
    },
    {
      "metadata": {
        "id": "DuG-C4jZ64To",
        "colab_type": "text"
      },
      "cell_type": "markdown",
      "source": [
        "## 3.3 Productos cartesianos\n",
        "\n",
        "Encontraremos el producto cartesiano de dos conjuntos $ A $ y $ B $ y determinaremos $ | A \\ veces B | $ de dos maneras. Primero, contando el número de elementos en $ A \\ veces B $, luego simplemente multiplicando $ | A | $ por $ | B | $. Comenzamos importando la librería ** itertools **."
      ]
    },
    {
      "metadata": {
        "id": "nQ7mwkb264Tp",
        "colab_type": "code",
        "colab": {}
      },
      "cell_type": "code",
      "source": [
        "import itertools"
      ],
      "execution_count": 0,
      "outputs": []
    },
    {
      "metadata": {
        "id": "95ogb1JW64Tt",
        "colab_type": "code",
        "colab": {}
      },
      "cell_type": "code",
      "source": [
        "A = {1, 2, 3}\n",
        "B = {4, 5}"
      ],
      "execution_count": 0,
      "outputs": []
    },
    {
      "metadata": {
        "id": "R-Az_NDs64Tw",
        "colab_type": "code",
        "outputId": "76124382-f8b8-4f13-ad0a-9eee2f0d89d4",
        "colab": {
          "base_uri": "https://localhost:8080/",
          "height": 160
        }
      },
      "cell_type": "code",
      "source": [
        "# Encontrar el producto cartesiano A X B y su tamaño\n",
        "cartesian_product = set([i for i in itertools.product(A, B)])\n",
        "print(\"pares ordenados en %s x %s:  \" %(A,B))\n",
        "for i in cartesian_product:\n",
        "    print(i)\n",
        "print;print(\"Size = %i\" %len(cartesian_product))"
      ],
      "execution_count": 0,
      "outputs": [
        {
          "output_type": "stream",
          "text": [
            "Ordered pairs in {1, 2, 3} x {4, 5}:  \n",
            "(1, 4)\n",
            "(1, 5)\n",
            "(2, 5)\n",
            "(3, 4)\n",
            "(2, 4)\n",
            "(3, 5)\n",
            "Size = 6\n"
          ],
          "name": "stdout"
        }
      ]
    },
    {
      "metadata": {
        "id": "XIJD8bfj64T1",
        "colab_type": "code",
        "outputId": "48f2e14b-4c54-4116-ea51-df1edf4b1ce3",
        "colab": {
          "base_uri": "https://localhost:8080/",
          "height": 35
        }
      },
      "cell_type": "code",
      "source": [
        "# |A X B| directamente\n",
        "print(len(cartesian_product))"
      ],
      "execution_count": 0,
      "outputs": [
        {
          "output_type": "stream",
          "text": [
            "6\n"
          ],
          "name": "stdout"
        }
      ]
    },
    {
      "metadata": {
        "id": "EZbyDwG064T6",
        "colab_type": "code",
        "outputId": "e10f27d5-1fba-46cc-b2f7-79f913bc0623",
        "colab": {
          "base_uri": "https://localhost:8080/",
          "height": 35
        }
      },
      "cell_type": "code",
      "source": [
        "# |A X B| usando la regla del producto\n",
        "print(len(A)*len(B))"
      ],
      "execution_count": 0,
      "outputs": [
        {
          "output_type": "stream",
          "text": [
            "6\n"
          ],
          "name": "stdout"
        }
      ]
    },
    {
      "metadata": {
        "id": "4maoDVGh64T9",
        "colab_type": "text"
      },
      "cell_type": "markdown",
      "source": [
        "## 3.3 Potencias cartesianas"
      ]
    },
    {
      "metadata": {
        "id": "qkKelarY64T-",
        "colab_type": "text"
      },
      "cell_type": "markdown",
      "source": [
        "Determinamos el tamaño de $ A ^ k $, la potencia cartesiana de $ k $ -th de $ A $ de dos maneras: calculando $ A ^ k $ y su tamaño, y luego a través de la fórmula $ | A | ^ k $."
      ]
    },
    {
      "metadata": {
        "id": "GsKWubBH64T_",
        "colab_type": "code",
        "colab": {}
      },
      "cell_type": "code",
      "source": [
        "A = {1, 2, 3}\n",
        "k = 2"
      ],
      "execution_count": 0,
      "outputs": []
    },
    {
      "metadata": {
        "id": "0SFC7gaH64UD",
        "colab_type": "code",
        "outputId": "3294ee9c-193a-431f-8bf5-5105bf673b48",
        "colab": {
          "base_uri": "https://localhost:8080/",
          "height": 35
        }
      },
      "cell_type": "code",
      "source": [
        "# Imprime k'th potencia cartesian de A\n",
        "print(set(itertools.product(A, repeat = k)))"
      ],
      "execution_count": 0,
      "outputs": [
        {
          "output_type": "stream",
          "text": [
            "{(1, 2), (3, 2), (1, 3), (3, 3), (3, 1), (2, 1), (2, 3), (2, 2), (1, 1)}\n"
          ],
          "name": "stdout"
        }
      ]
    },
    {
      "metadata": {
        "scrolled": false,
        "id": "kHcjqqRJ64UI",
        "colab_type": "code",
        "outputId": "21fbe92f-8496-4e6f-8d7f-edb32d968d11",
        "colab": {
          "base_uri": "https://localhost:8080/",
          "height": 214
        }
      },
      "cell_type": "code",
      "source": [
        "# imprimir\n",
        "cartesian_power = set([i for i in itertools.product(A, repeat = k)])\n",
        "print(\"Tuples en %s^%i: \" %(A,k))\n",
        "for i in cartesian_power:\n",
        "    print(i)\n",
        "print;print(\"Size = \", len(cartesian_power))"
      ],
      "execution_count": 0,
      "outputs": [
        {
          "output_type": "stream",
          "text": [
            "Tuples en {1, 2, 3}^2: \n",
            "(1, 2)\n",
            "(3, 2)\n",
            "(1, 3)\n",
            "(3, 3)\n",
            "(3, 1)\n",
            "(2, 1)\n",
            "(2, 3)\n",
            "(2, 2)\n",
            "(1, 1)\n",
            "Size =  9\n"
          ],
          "name": "stdout"
        }
      ]
    },
    {
      "metadata": {
        "id": "Fv0i85lf64UM",
        "colab_type": "code",
        "outputId": "9fffcd41-6f54-45f8-d912-61352e0523cf",
        "colab": {
          "base_uri": "https://localhost:8080/",
          "height": 35
        }
      },
      "cell_type": "code",
      "source": [
        "# Encontar |A|^k directamente\n",
        "print(len(A)**k)"
      ],
      "execution_count": 0,
      "outputs": [
        {
          "output_type": "stream",
          "text": [
            "9\n"
          ],
          "name": "stdout"
        }
      ]
    },
    {
      "metadata": {
        "id": "9VCNqV1m64UQ",
        "colab_type": "text"
      },
      "cell_type": "markdown",
      "source": [
        "A continuación, calculamos y representamos gráficamente el exponencial $ 2 ^ x $ y los polinomios $ x $ y $ x ^ 2 $. Mueva el control deslizante para ver que el exponencial crece mucho más rápido que los polinomios. Experimente con diferentes funciones para ver qué tan rápido crecen."
      ]
    },
    {
      "metadata": {
        "id": "DM82DK6q64UR",
        "colab_type": "code",
        "colab": {}
      },
      "cell_type": "code",
      "source": [
        "import matplotlib.pyplot as plt\n",
        "import numpy as np"
      ],
      "execution_count": 0,
      "outputs": []
    },
    {
      "metadata": {
        "id": "4TKFbBO264UT",
        "colab_type": "code",
        "colab": {}
      },
      "cell_type": "code",
      "source": [
        "!pip install -q ipywidgets\n",
        "import ipywidgets as widgets"
      ],
      "execution_count": 0,
      "outputs": []
    },
    {
      "metadata": {
        "id": "Ed82t94264UW",
        "colab_type": "code",
        "outputId": "1094aaa3-25e1-44f7-ecad-e164582ea2ad",
        "colab": {
          "base_uri": "https://localhost:8080/",
          "height": 646
        }
      },
      "cell_type": "code",
      "source": [
        "def f(x_max):\n",
        "    x = np.arange(0, x_max, 0.01)\n",
        "    plt.plot(x, x, 'b', linewidth = 3, label = '$x$')\n",
        "    plt.plot(x, x**2, 'r', linewidth = 3, label = '$x^2$')\n",
        "    plt.plot(x, 2**x, 'm', linewidth = 3, label = '$2^x$')\n",
        "    plt.xlabel('x', fontsize = 20)\n",
        "    plt.xticks(fontsize = 18)\n",
        "    plt.yticks(np.linspace(max(2**x_max, x_max**2)/10, max(2**x_max, x_max**2), 10), fontsize = 18)\n",
        "    plt.gca().set_xlim([0, x_max])\n",
        "    plt.gca().set_ylim([0, max(2**x_max, x_max**2)])\n",
        "    plt.gcf().set_size_inches(20, 10)\n",
        "    plt.legend(fontsize = 20)\n",
        "    plt.show()\n",
        "    \n",
        "widgets.interact(f, x_max=widgets.FloatSlider(min = 0.5, max = 20, step = 0.5))"
      ],
      "execution_count": 0,
      "outputs": [
        {
          "output_type": "display_data",
          "data": {
            "image/png": "[encoded data removed]",
            "text/plain": [
              "<matplotlib.figure.Figure at 0x7f173c0c3908>"
            ]
          },
          "metadata": {
            "tags": []
          }
        },
        {
          "output_type": "execute_result",
          "data": {
            "text/plain": [
              "<function __main__.f>"
            ]
          },
          "metadata": {
            "tags": []
          },
          "execution_count": 67
        }
      ]
    },
    {
      "metadata": {
        "id": "GE_UMJg68jCG",
        "colab_type": "text"
      },
      "cell_type": "markdown",
      "source": [
        "# 4 Permutaciones y combinaciones\n",
        "\n",
        "## 4.1 Permutaciones\n",
        "\n",
        "Encontramos la cantidad de $ k $ -permutaciones de $ A $, primero al determinar el conjunto de permutaciones y luego al calcular $\\frac {| A |!} {(| A | -k)!} $. Primero consideramos el caso especial de $ k = | A | $, que es equivalente a encontrar el número de formas de ordenar los elementos de $ A $. Primero importamos la librería ** itertools **."
      ]
    },
    {
      "metadata": {
        "id": "3m4k5Kiq8jCH",
        "colab_type": "code",
        "colab": {}
      },
      "cell_type": "code",
      "source": [
        "import itertools"
      ],
      "execution_count": 0,
      "outputs": []
    },
    {
      "metadata": {
        "id": "_VJcD9yo8jCK",
        "colab_type": "code",
        "colab": {}
      },
      "cell_type": "code",
      "source": [
        "A = {1, 2, 3}"
      ],
      "execution_count": 0,
      "outputs": []
    },
    {
      "metadata": {
        "id": "8vy5GvjS8jCO",
        "colab_type": "code",
        "outputId": "3947ff2a-d669-4b62-a78b-46acf18a0086",
        "colab": {
          "base_uri": "https://localhost:8080/",
          "height": 160
        }
      },
      "cell_type": "code",
      "source": [
        "# Encuentra todas las permutaciones de A y | A!\n",
        "permute_all = set(itertools.permutations(A))\n",
        "print(\"Permutations of %s:  \" %A)\n",
        "for i in permute_all:\n",
        "    print(i)\n",
        "\n",
        "print(\"Number of permutations: \", len(permute_all))"
      ],
      "execution_count": 0,
      "outputs": [
        {
          "output_type": "stream",
          "text": [
            "Permutations of {1, 2, 3}:  \n",
            "(3, 1, 2)\n",
            "(1, 3, 2)\n",
            "(3, 2, 1)\n",
            "(2, 3, 1)\n",
            "(1, 2, 3)\n",
            "(2, 1, 3)\n",
            "Number of permutations:  6\n"
          ],
          "name": "stdout"
        }
      ]
    },
    {
      "metadata": {
        "id": "4ceijuge8jCS",
        "colab_type": "code",
        "outputId": "dd5733b8-4f53-41de-9b0e-40ebcb55f4c1",
        "colab": {
          "base_uri": "https://localhost:8080/",
          "height": 35
        }
      },
      "cell_type": "code",
      "source": [
        "# Encontrar |A|! directamente\n",
        "from math import factorial\n",
        "print(factorial(len(A)))"
      ],
      "execution_count": 0,
      "outputs": [
        {
          "output_type": "stream",
          "text": [
            "6\n"
          ],
          "name": "stdout"
        }
      ]
    },
    {
      "metadata": {
        "id": "D1nTlh9M8jCY",
        "colab_type": "code",
        "colab": {}
      },
      "cell_type": "code",
      "source": [
        "A = {1, 2, 3, 4}\n",
        "k = 3"
      ],
      "execution_count": 0,
      "outputs": []
    },
    {
      "metadata": {
        "id": "P5kZZSMa8jCc",
        "colab_type": "code",
        "outputId": "40112175-6cd7-486d-9f60-5f8c7836dea6",
        "colab": {
          "base_uri": "https://localhost:8080/",
          "height": 482
        }
      },
      "cell_type": "code",
      "source": [
        "# Imprimir todas las k-permutationes de A\n",
        "n = len(A)\n",
        "permute_k = list(itertools.permutations(A, k))\n",
        "print(\"%i-permutations of %s:  \" %(k,A))\n",
        "for i in permute_k:\n",
        "    print(i)\n",
        "print(\"Size = \", \"%i!/(%i-%i)! = \" %(n,n,k), len(permute_k))"
      ],
      "execution_count": 0,
      "outputs": [
        {
          "output_type": "stream",
          "text": [
            "3-permutations of {1, 2, 3, 4}:  \n",
            "(1, 2, 3)\n",
            "(1, 2, 4)\n",
            "(1, 3, 2)\n",
            "(1, 3, 4)\n",
            "(1, 4, 2)\n",
            "(1, 4, 3)\n",
            "(2, 1, 3)\n",
            "(2, 1, 4)\n",
            "(2, 3, 1)\n",
            "(2, 3, 4)\n",
            "(2, 4, 1)\n",
            "(2, 4, 3)\n",
            "(3, 1, 2)\n",
            "(3, 1, 4)\n",
            "(3, 2, 1)\n",
            "(3, 2, 4)\n",
            "(3, 4, 1)\n",
            "(3, 4, 2)\n",
            "(4, 1, 2)\n",
            "(4, 1, 3)\n",
            "(4, 2, 1)\n",
            "(4, 2, 3)\n",
            "(4, 3, 1)\n",
            "(4, 3, 2)\n",
            "Size =  4!/(4-3)! =  24\n"
          ],
          "name": "stdout"
        }
      ]
    },
    {
      "metadata": {
        "id": "UAryaaJ78jCg",
        "colab_type": "code",
        "outputId": "c727bcbb-541c-4d7b-e8eb-f5b598953165",
        "colab": {
          "base_uri": "https://localhost:8080/",
          "height": 35
        }
      },
      "cell_type": "code",
      "source": [
        "# Imprimir |A|!/(|A|-k)! directamente\n",
        "print(int(factorial(len(A))/factorial(len(A)-k)))"
      ],
      "execution_count": 0,
      "outputs": [
        {
          "output_type": "stream",
          "text": [
            "24\n"
          ],
          "name": "stdout"
        }
      ]
    },
    {
      "metadata": {
        "id": "nU_pxXkZ8jCm",
        "colab_type": "text"
      },
      "cell_type": "markdown",
      "source": [
        "## 4.2 Combinaciones\n",
        "Encontramos el número de combinaciones $ k $ de $ A $, primero determinando el conjunto de combinaciones y luego simplemente calculando $ {| A |} \\choose{k} $."
      ]
    },
    {
      "metadata": {
        "id": "1RX_h_728jCn",
        "colab_type": "code",
        "colab": {}
      },
      "cell_type": "code",
      "source": [
        "from scipy.special import binom         # para calcular los coeficientes binomiales | A | elige k"
      ],
      "execution_count": 0,
      "outputs": []
    },
    {
      "metadata": {
        "id": "VnDP21y58jCv",
        "colab_type": "code",
        "colab": {}
      },
      "cell_type": "code",
      "source": [
        "A = {1, 2, 3, 4}\n",
        "k = 2"
      ],
      "execution_count": 0,
      "outputs": []
    },
    {
      "metadata": {
        "scrolled": true,
        "id": "4iDu6lbj8jCz",
        "colab_type": "code",
        "outputId": "94e9f04b-a30c-467f-913b-51afd104e887",
        "colab": {
          "base_uri": "https://localhost:8080/",
          "height": 160
        }
      },
      "cell_type": "code",
      "source": [
        "# Imprime todos las k-combinationes de A\n",
        "choose_k = list(itertools.combinations(A,k))\n",
        "print(\"%i-combinationes of %s:  \" %(k,A))\n",
        "for i in choose_k:\n",
        "    print(i)\n",
        "print(\"Numero de combinationes = %i!/(%i!(%i-%i)!) = %i\" %(n,k,n,k,len(choose_k)  ))"
      ],
      "execution_count": 0,
      "outputs": [
        {
          "output_type": "stream",
          "text": [
            "2-combinationes of {1, 2, 3, 4}:  \n",
            "(1, 2)\n",
            "(1, 3)\n",
            "(1, 4)\n",
            "(2, 3)\n",
            "(2, 4)\n",
            "(3, 4)\n",
            "Numero de combinationes = 4!/(2!(4-2)!) = 6\n"
          ],
          "name": "stdout"
        }
      ]
    },
    {
      "metadata": {
        "id": "B9kD51VM8jC3",
        "colab_type": "code",
        "outputId": "0bace1bc-3ee2-4f6c-d86a-a35d371b5298",
        "colab": {
          "base_uri": "https://localhost:8080/",
          "height": 35
        }
      },
      "cell_type": "code",
      "source": [
        "# Imprime |A|!/(k!(|A|-k)!) directamente\n",
        "print(int(factorial(len(A))/(factorial(k)*factorial(len(A)-k))))"
      ],
      "execution_count": 0,
      "outputs": [
        {
          "output_type": "stream",
          "text": [
            "6\n"
          ],
          "name": "stdout"
        }
      ]
    },
    {
      "metadata": {
        "id": "NzVz1mJE8jC8",
        "colab_type": "text"
      },
      "cell_type": "markdown",
      "source": [
        "Si desea concatenar caracteres como las letras del alfabeto e imprimirlos como cadenas, puede usar la función <i> join () </i>."
      ]
    },
    {
      "metadata": {
        "id": "w_UAWpwh8jC9",
        "colab_type": "code",
        "colab": {}
      },
      "cell_type": "code",
      "source": [
        "A = {'a', 'b', 'c', 'q'}\n",
        "k = 3"
      ],
      "execution_count": 0,
      "outputs": []
    },
    {
      "metadata": {
        "id": "7d-9J4ey8jDA",
        "colab_type": "code",
        "outputId": "d90a73af-f58e-47c9-b7c2-2b1e25876f72",
        "colab": {
          "base_uri": "https://localhost:8080/",
          "height": 482
        }
      },
      "cell_type": "code",
      "source": [
        "# Imprime todas las k-permutationes de S\n",
        "n = len(A)\n",
        "permute_k = list(itertools.permutations(A, k))\n",
        "print(\"%i-permutations of %s:\" %(k,A))\n",
        "for i in range(0, len(permute_k)):\n",
        "    print(''.join(permute_k[i]) )\n",
        "print(\"Size =  %i!/(%i-%i)! = \" %(n,n,k), len(permute_k))"
      ],
      "execution_count": 0,
      "outputs": [
        {
          "output_type": "stream",
          "text": [
            "3-permutations of {'b', 'a', 'c', 'q'}:\n",
            "bac\n",
            "baq\n",
            "bca\n",
            "bcq\n",
            "bqa\n",
            "bqc\n",
            "abc\n",
            "abq\n",
            "acb\n",
            "acq\n",
            "aqb\n",
            "aqc\n",
            "cba\n",
            "cbq\n",
            "cab\n",
            "caq\n",
            "cqb\n",
            "cqa\n",
            "qba\n",
            "qbc\n",
            "qab\n",
            "qac\n",
            "qcb\n",
            "qca\n",
            "Size =  4!/(4-3)! =  24\n"
          ],
          "name": "stdout"
        }
      ]
    },
    {
      "metadata": {
        "id": "CcqKQaGe8jDH",
        "colab_type": "code",
        "outputId": "72d396a9-c1d8-4524-a983-6c3648a1240c",
        "colab": {}
      },
      "cell_type": "code",
      "source": [
        "# Imprime |A|!/(|A|-k)! directamente\n",
        "print(int(factorial(len(A))/factorial(len(A)-k)))"
      ],
      "execution_count": 0,
      "outputs": [
        {
          "output_type": "stream",
          "text": [
            "24\n"
          ],
          "name": "stdout"
        }
      ]
    },
    {
      "metadata": {
        "id": "fQg8qWUC8jDM",
        "colab_type": "code",
        "colab": {}
      },
      "cell_type": "code",
      "source": [
        "A = {'a', 'b', 'c', 'd'}\n",
        "k = 2"
      ],
      "execution_count": 0,
      "outputs": []
    },
    {
      "metadata": {
        "scrolled": false,
        "id": "N7mYg-5Y8jDO",
        "colab_type": "code",
        "outputId": "9b952020-9c9d-4cad-aaa3-b14968291bed",
        "colab": {
          "base_uri": "https://localhost:8080/",
          "height": 142
        }
      },
      "cell_type": "code",
      "source": [
        "# Imprime todos las k-combinationes de A\n",
        "choose_k = list(itertools.combinations(A,k))\n",
        "print(\"%i-combinationes of %s:\\n\" %(k,A))\n",
        "for i in range(0, len(choose_k)):\n",
        "    print(''.join(choose_k[i]) )\n",
        "print;print(\"Size = %i!/(%i!(%i-%i)!) = \" %(n,k,n,k), len(choose_k))"
      ],
      "execution_count": 0,
      "outputs": [
        {
          "output_type": "stream",
          "text": [
            "3-combinationes of {'b', 'a', 'c', 'q'}:\n",
            "\n",
            "bac\n",
            "baq\n",
            "bcq\n",
            "acq\n",
            "Size = 4!/(3!(4-3)!) =  4\n"
          ],
          "name": "stdout"
        }
      ]
    },
    {
      "metadata": {
        "id": "RKP7wMoH8jDS",
        "colab_type": "code",
        "outputId": "6f3f0674-6326-4c89-8f6d-e22ed64d5f99",
        "colab": {
          "base_uri": "https://localhost:8080/",
          "height": 35
        }
      },
      "cell_type": "code",
      "source": [
        "# Imprime |A|!/(k!(|A|-k)!) directamente\n",
        "print(int(factorial(len(A))/(factorial(k)*factorial(len(A)-k))))"
      ],
      "execution_count": 0,
      "outputs": [
        {
          "output_type": "stream",
          "text": [
            "4\n"
          ],
          "name": "stdout"
        }
      ]
    },
    {
      "metadata": {
        "id": "_PVvKc54FMp0",
        "colab_type": "text"
      },
      "cell_type": "markdown",
      "source": [
        "#5. Distribución de probabilidad\n",
        "\n",
        "Hay al menos dos formas de extraer muestras de distribuciones de probabilidad en Python. Una forma es usar el paquete SciPy de Python para generar números aleatorios a partir de múltiples distribuciones de probabilidad. [ver](https://docs.scipy.org/doc/scipy/reference/stats.html)\n",
        "\n",
        "Otra forma de generar números aleatorios o extraer muestras de múltiples distribuciones de probabilidad en Python es usar el módulo aleatorio de NumPy. [ver](https://docs.scipy.org/doc/numpy/reference/routines.random.html)\n",
        "\n"
      ]
    },
    {
      "metadata": {
        "id": "LcdFeIBuHw2k",
        "colab_type": "code",
        "colab": {}
      },
      "cell_type": "code",
      "source": [
        "#cargar los paquetes de Python necesarios para generar numeros aleatorios \n",
        "\n",
        "%matplotlib inline\n",
        "# import matplotlib\n",
        "import matplotlib.pyplot as plt\n",
        "\n",
        "# import seaborn\n",
        "import seaborn as sns\n",
        "# settings for seaborn plotting style\n",
        "sns.set(color_codes=True)\n",
        "# settings for seaborn plot sizes\n",
        "sns.set(rc={'figure.figsize':(10,6)})"
      ],
      "execution_count": 0,
      "outputs": []
    },
    {
      "metadata": {
        "id": "KTZTSuzGJFaP",
        "colab_type": "text"
      },
      "cell_type": "markdown",
      "source": [
        "##5.1 Distribución uniforme\n",
        "\n"
      ]
    },
    {
      "metadata": {
        "id": "1DvD8w96Jcyw",
        "colab_type": "code",
        "colab": {}
      },
      "cell_type": "code",
      "source": [
        "# importar distribución uniforme\n",
        "from scipy.stats import uniform"
      ],
      "execution_count": 0,
      "outputs": []
    },
    {
      "metadata": {
        "id": "b56Zqx9tJgy7",
        "colab_type": "code",
        "colab": {}
      },
      "cell_type": "code",
      "source": [
        "# generar numeros aleatorios de distribución uniforme\n",
        "\n",
        "n = 10000\n",
        "a = 0\n",
        "b = 10\n",
        "data_uniform = uniform.rvs(size=n, loc = a, scale=b) \n",
        "\n",
        "#len(data_uniform)"
      ],
      "execution_count": 0,
      "outputs": []
    },
    {
      "metadata": {
        "id": "FgjY7jQlJh1P",
        "colab_type": "code",
        "outputId": "0511c4de-8997-4045-dd58-5303b2796299",
        "colab": {
          "base_uri": "https://localhost:8080/",
          "height": 406
        }
      },
      "cell_type": "code",
      "source": [
        "ax = sns.distplot(data_uniform,\n",
        "                  bins=100,\n",
        "                  kde=False,\n",
        "                  color='blue',\n",
        "                  hist_kws={\"linewidth\": 15,'alpha':1})\n",
        "\n",
        "ax.set(xlabel='Uniforme ', ylabel='Frecuencia')"
      ],
      "execution_count": 0,
      "outputs": [
        {
          "output_type": "execute_result",
          "data": {
            "text/plain": [
              "[Text(0,0.5,'Frecuencia'), Text(0.5,0,'Uniforme ')]"
            ]
          },
          "metadata": {
            "tags": []
          },
          "execution_count": 90
        },
        {
          "output_type": "display_data",
          "data": {
            "image/png": "[encoded data removed]",
            "text/plain": [
              "<matplotlib.figure.Figure at 0x7f906fe60278>"
            ]
          },
          "metadata": {
            "tags": []
          }
        }
      ]
    },
    {
      "metadata": {
        "id": "orTsS2u3JI__",
        "colab_type": "text"
      },
      "cell_type": "markdown",
      "source": [
        ""
      ]
    },
    {
      "metadata": {
        "colab_type": "text",
        "id": "_bxCQV4hK2p8"
      },
      "cell_type": "markdown",
      "source": [
        "##5.2 Distribución normal\n",
        "Para generar 10000 números aleatorios a partir de la media de distribución normal = 0 y varianza = 1,  hacemos\n",
        "\n"
      ]
    },
    {
      "metadata": {
        "colab_type": "code",
        "id": "6tAILklfK2qW",
        "colab": {}
      },
      "cell_type": "code",
      "source": [
        "# importar \n",
        "from scipy.stats import norm"
      ],
      "execution_count": 0,
      "outputs": []
    },
    {
      "metadata": {
        "colab_type": "code",
        "id": "o0ctBSXYK2qn",
        "colab": {}
      },
      "cell_type": "code",
      "source": [
        "# generar números aleatorios de la distribución\n",
        "\n",
        "data_normal = norm.rvs(size=10000,loc=0,scale=1)\n",
        "\n",
        "#len(data_uniform)"
      ],
      "execution_count": 0,
      "outputs": []
    },
    {
      "metadata": {
        "colab_type": "code",
        "outputId": "bf1cf96a-6c63-4f22-a6e9-6883537d5c5c",
        "id": "9CGH3sxbK2qz",
        "colab": {
          "base_uri": "https://localhost:8080/",
          "height": 406
        }
      },
      "cell_type": "code",
      "source": [
        "ax = sns.distplot(data_normal,\n",
        "                  bins=100,\n",
        "                  kde=False,\n",
        "                  color='blue',\n",
        "                  hist_kws={\"linewidth\": 15,'alpha':1})\n",
        "\n",
        "\n",
        "ax.set(xlabel='Normal ', ylabel='Frecuencia')"
      ],
      "execution_count": 0,
      "outputs": [
        {
          "output_type": "execute_result",
          "data": {
            "text/plain": [
              "[Text(0,0.5,'Frecuencia'), Text(0.5,0,'Normal ')]"
            ]
          },
          "metadata": {
            "tags": []
          },
          "execution_count": 93
        },
        {
          "output_type": "display_data",
          "data": {
            "image/png": "[encoded data removed]",
            "text/plain": [
              "<matplotlib.figure.Figure at 0x7f9070c90d30>"
            ]
          },
          "metadata": {
            "tags": []
          }
        }
      ]
    },
    {
      "metadata": {
        "colab_type": "text",
        "id": "z_5EH3UOK2q9"
      },
      "cell_type": "markdown",
      "source": [
        ""
      ]
    },
    {
      "metadata": {
        "colab_type": "text",
        "id": "8d0S0dmPPL2x"
      },
      "cell_type": "markdown",
      "source": [
        "##5.3 Distribución Bernoulli\n",
        "Para generar 10000 números aleatorios a partir de la media de distribución normal = 0 y varianza = 1,  hacemos\n",
        "\n"
      ]
    },
    {
      "metadata": {
        "colab_type": "code",
        "id": "AOZbAOpZPL3Q",
        "colab": {}
      },
      "cell_type": "code",
      "source": [
        "# importar \n",
        "from scipy.stats import bernoulli"
      ],
      "execution_count": 0,
      "outputs": []
    },
    {
      "metadata": {
        "colab_type": "code",
        "id": "lsk3D2NLPL3g",
        "colab": {}
      },
      "cell_type": "code",
      "source": [
        "# generar números aleatorios de la distribución\n",
        "\n",
        "data_bern = bernoulli.rvs(size=10000,p=0.3)\n",
        "\n",
        "#len(data_uniform)"
      ],
      "execution_count": 0,
      "outputs": []
    },
    {
      "metadata": {
        "colab_type": "code",
        "outputId": "34e631ef-ab1e-448d-c501-06d8f0e0ac70",
        "id": "QeFjtpgyPL3q",
        "colab": {
          "base_uri": "https://localhost:8080/",
          "height": 406
        }
      },
      "cell_type": "code",
      "source": [
        "ax= sns.distplot(data_bern,\n",
        "                 kde=False,\n",
        "                 color=\"blue\",\n",
        "                 hist_kws={\"linewidth\": 15,'alpha':1})\n",
        "\n",
        "\n",
        "ax.set(xlabel='Bernoulli ', ylabel='Frecuencia')"
      ],
      "execution_count": 0,
      "outputs": [
        {
          "output_type": "execute_result",
          "data": {
            "text/plain": [
              "[Text(0,0.5,'Frecuencia'), Text(0.5,0,'Bernoulli ')]"
            ]
          },
          "metadata": {
            "tags": []
          },
          "execution_count": 96
        },
        {
          "output_type": "display_data",
          "data": {
            "image/png": "[encoded data removed]",
            "text/plain": [
              "<matplotlib.figure.Figure at 0x7f906fc1c7b8>"
            ]
          },
          "metadata": {
            "tags": []
          }
        }
      ]
    },
    {
      "metadata": {
        "id": "hi8foB4_R26l",
        "colab_type": "text"
      },
      "cell_type": "markdown",
      "source": [
        "# 5.4 Distribución binomial\n",
        "\n",
        "Una variable aleatoria X que tiene una distribución binomial representa el número de éxitos en una secuencia de n ensayos independientes sí / no, cada uno de los cuales produce éxito con probabilidad p.\n",
        "E (X) = np, Var (X) = np (1 − p)\n",
        "\n",
        "Ejemplo de distribución binomial: ¿Cuál es la probabilidad de obtener 2 caras de cada 10 tiradas de una moneda justa?"
      ]
    },
    {
      "metadata": {
        "id": "EtYBb3aaRGgZ",
        "colab_type": "code",
        "colab": {}
      },
      "cell_type": "code",
      "source": [
        "from scipy.stats import binom"
      ],
      "execution_count": 0,
      "outputs": []
    },
    {
      "metadata": {
        "id": "CSiyjhwzQ50D",
        "colab_type": "text"
      },
      "cell_type": "markdown",
      "source": [
        "La distribución binomial es una distribución de probabilidad discreta como la de Bernoulli. Puede usarse para obtener el número de éxitos de N pruebas de Bernoulli. Por ejemplo, para encontrar el número de éxitos en 10 ensayos de Bernoulli con p = 0.5, usaremos"
      ]
    },
    {
      "metadata": {
        "id": "8xUKLXpCSIKU",
        "colab_type": "code",
        "outputId": "29ed695c-e9c6-45bd-b289-f434d19709b2",
        "colab": {
          "base_uri": "https://localhost:8080/",
          "height": 35
        }
      },
      "cell_type": "code",
      "source": [
        "binom.rvs(n=10,p=0.5)"
      ],
      "execution_count": 0,
      "outputs": [
        {
          "output_type": "execute_result",
          "data": {
            "text/plain": [
              "3"
            ]
          },
          "metadata": {
            "tags": []
          },
          "execution_count": 98
        }
      ]
    },
    {
      "metadata": {
        "id": "PJ0UK_dtRRoq",
        "colab_type": "text"
      },
      "cell_type": "markdown",
      "source": [
        "También podemos usar binom.rvs para repetir las pruebas con el argumento de tamaño. Si queremos repetir 5 veces, usamos"
      ]
    },
    {
      "metadata": {
        "id": "JKYKDCzKRQJp",
        "colab_type": "code",
        "outputId": "82eab4ba-b78b-4687-bf72-33c66cc53034",
        "colab": {
          "base_uri": "https://localhost:8080/",
          "height": 35
        }
      },
      "cell_type": "code",
      "source": [
        "binom.rvs(size=5,n=10,p=0.5)"
      ],
      "execution_count": 0,
      "outputs": [
        {
          "output_type": "execute_result",
          "data": {
            "text/plain": [
              "array([4, 6, 3, 4, 3])"
            ]
          },
          "metadata": {
            "tags": []
          },
          "execution_count": 99
        }
      ]
    },
    {
      "metadata": {
        "id": "VJze9EhORk_Y",
        "colab_type": "text"
      },
      "cell_type": "markdown",
      "source": [
        "Generemos 10000 a partir de la distribución binomial "
      ]
    },
    {
      "metadata": {
        "id": "xVqADS7KQd7b",
        "colab_type": "code",
        "colab": {}
      },
      "cell_type": "code",
      "source": [
        "data_binom = binom.rvs(n=10,p=0.5,size=10000)"
      ],
      "execution_count": 0,
      "outputs": []
    },
    {
      "metadata": {
        "id": "zRMYefuzRud0",
        "colab_type": "code",
        "outputId": "70bd7fb4-d3a0-4f99-9499-39ab8d1ffa63",
        "colab": {
          "base_uri": "https://localhost:8080/",
          "height": 406
        }
      },
      "cell_type": "code",
      "source": [
        "ax = sns.distplot(data_binom,\n",
        "                  kde=False,\n",
        "                  color='blue',\n",
        "                  hist_kws={\"linewidth\": 10,'alpha':1})\n",
        "\n",
        "ax.set(xlabel='Binomial', ylabel='Frequency')"
      ],
      "execution_count": 0,
      "outputs": [
        {
          "output_type": "execute_result",
          "data": {
            "text/plain": [
              "[Text(0,0.5,'Frequency'), Text(0.5,0,'Binomial')]"
            ]
          },
          "metadata": {
            "tags": []
          },
          "execution_count": 101
        },
        {
          "output_type": "display_data",
          "data": {
            "image/png": "[encoded data removed]",
            "text/plain": [
              "<matplotlib.figure.Figure at 0x7f90701f8898>"
            ]
          },
          "metadata": {
            "tags": []
          }
        }
      ]
    },
    {
      "metadata": {
        "id": "9TRFNn5YSqdm",
        "colab_type": "text"
      },
      "cell_type": "markdown",
      "source": [
        ""
      ]
    },
    {
      "metadata": {
        "colab_type": "text",
        "id": "NroZ9FptSrcH"
      },
      "cell_type": "markdown",
      "source": [
        "# 5.5 Distribución Poisson\n",
        "\n",
        "La variable aleatoria de Poisson se usa normalmente para modelar el número de veces que un evento ocurrió en un intervalo de tiempo. Por ejemplo, la cantidad de clientes que visitaron su tienda en un intervalo se puede pensar en un proceso de Poisson. \n",
        "\n",
        "La distribución de Poisson se describe en términos de la tasa (mu) a la que ocurren los eventos. Podemos generar variables aleatorias de Poisson en Python usando poisson.rvs.\n",
        "\n",
        "Generemos 10000 números aleatorios de la variable aleatoria de Poisson con mu = 0.3 y los representamos."
      ]
    },
    {
      "metadata": {
        "colab_type": "code",
        "id": "wUlA2bPhSrca",
        "colab": {}
      },
      "cell_type": "code",
      "source": [
        "from scipy.stats import poisson"
      ],
      "execution_count": 0,
      "outputs": []
    },
    {
      "metadata": {
        "colab_type": "code",
        "id": "GSo4L7rLSrcv",
        "colab": {}
      },
      "cell_type": "code",
      "source": [
        "data_poisson = poisson.rvs(mu=3, size=10000)"
      ],
      "execution_count": 0,
      "outputs": []
    },
    {
      "metadata": {
        "colab_type": "code",
        "outputId": "f034a6ad-ae7d-46bd-d563-97db3c005317",
        "id": "t2N2k8M4SrdL",
        "colab": {
          "base_uri": "https://localhost:8080/",
          "height": 406
        }
      },
      "cell_type": "code",
      "source": [
        "ax = sns.distplot(data_poisson,\n",
        "                  kde=False,\n",
        "                  color='blue',\n",
        "                  hist_kws={\"linewidth\": 15,'alpha':1})\n",
        "\n",
        "ax.set(xlabel='Poisson', ylabel='Frequency')"
      ],
      "execution_count": 0,
      "outputs": [
        {
          "output_type": "execute_result",
          "data": {
            "text/plain": [
              "[Text(0,0.5,'Frequency'), Text(0.5,0,'Poisson')]"
            ]
          },
          "metadata": {
            "tags": []
          },
          "execution_count": 109
        },
        {
          "output_type": "display_data",
          "data": {
            "image/png": "[encoded data removed]",
            "text/plain": [
              "<matplotlib.figure.Figure at 0x7f906fabc358>"
            ]
          },
          "metadata": {
            "tags": []
          }
        }
      ]
    },
    {
      "metadata": {
        "id": "Dj1FZqYAUfCy",
        "colab_type": "text"
      },
      "cell_type": "markdown",
      "source": [
        ""
      ]
    },
    {
      "metadata": {
        "colab_type": "text",
        "id": "tmlElrotUfuF"
      },
      "cell_type": "markdown",
      "source": [
        "# 5.6 Distribución Geometrica\n",
        "\n",
        "La variable aleatoria de Poisson se usa normalmente para modelar el número de veces que un evento ocurrió en un intervalo de tiempo. Por ejemplo, la cantidad de clientes que visitaron su tienda en un intervalo se puede pensar en un proceso de Poisson. \n",
        "\n",
        "La distribución de Poisson se describe en términos de la tasa (mu) a la que ocurren los eventos. Podemos generar variables aleatorias de Poisson en Python usando poisson.rvs.\n",
        "\n",
        "Generemos 10000 números aleatorios de la variable aleatoria de Poisson con mu = 0.3 y los representamos."
      ]
    },
    {
      "metadata": {
        "colab_type": "code",
        "id": "SGlJQb-RUfuc",
        "colab": {}
      },
      "cell_type": "code",
      "source": [
        "from scipy.stats import geom"
      ],
      "execution_count": 0,
      "outputs": []
    },
    {
      "metadata": {
        "colab_type": "code",
        "id": "g9xXJBwzUfut",
        "colab": {}
      },
      "cell_type": "code",
      "source": [
        "data_geom = geom.rvs(p=0.5, size=10000)"
      ],
      "execution_count": 0,
      "outputs": []
    },
    {
      "metadata": {
        "colab_type": "code",
        "outputId": "e78dae20-737b-4dc5-f470-3616649d5760",
        "id": "x-6Iftm4Ufu1",
        "colab": {
          "base_uri": "https://localhost:8080/",
          "height": 406
        }
      },
      "cell_type": "code",
      "source": [
        "\n",
        "ax = sns.distplot(data_geom,\n",
        "                  kde=False,\n",
        "                  color='blue',\n",
        "                  hist_kws={\"linewidth\": 15,'alpha':1})\n",
        "\n",
        "ax.set(xlabel='Poisson', ylabel='Frequency')"
      ],
      "execution_count": 0,
      "outputs": [
        {
          "output_type": "execute_result",
          "data": {
            "text/plain": [
              "[Text(0,0.5,'Frequency'), Text(0.5,0,'Poisson')]"
            ]
          },
          "metadata": {
            "tags": []
          },
          "execution_count": 110
        },
        {
          "output_type": "display_data",
          "data": {
            "image/png": "[encoded data removed]",
            "text/plain": [
              "<matplotlib.figure.Figure at 0x7f906f8ea320>"
            ]
          },
          "metadata": {
            "tags": []
          }
        }
      ]
    }
  ]
}